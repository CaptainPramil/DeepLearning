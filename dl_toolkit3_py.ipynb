{
  "nbformat": 4,
  "nbformat_minor": 0,
  "metadata": {
    "colab": {
      "name": "dl_toolkit3.py",
      "provenance": []
    },
    "kernelspec": {
      "name": "python3",
      "display_name": "Python 3"
    }
  },
  "cells": [
    {
      "cell_type": "code",
      "metadata": {
        "id": "Qh7tqeMPBPDw",
        "colab": {
          "base_uri": "https://localhost:8080/"
        },
        "outputId": "38ceb21d-adb9-4c3e-9605-5225c19f06af"
      },
      "source": [
        "import numpy as np\n",
        "import pandas as pd\n",
        "from matplotlib import pyplot as plt\n",
        "from sklearn.preprocessing import OneHotEncoder\n",
        "import pickle\n",
        "from google.colab import drive\n",
        "from sklearn.metrics import log_loss\n",
        "from sklearn.metrics import mean_squared_error\n",
        "from sklearn.model_selection import train_test_split\n",
        "from sklearn.preprocessing import label_binarize\n",
        "from sklearn.metrics import roc_curve, auc\n",
        "from scipy import interp\n",
        "from itertools import cycle\n",
        "import math  \n",
        "\n",
        "drive.mount('/content/drive')"
      ],
      "execution_count": null,
      "outputs": [
        {
          "output_type": "stream",
          "text": [
            "Drive already mounted at /content/drive; to attempt to forcibly remount, call drive.mount(\"/content/drive\", force_remount=True).\n"
          ],
          "name": "stdout"
        }
      ]
    },
    {
      "cell_type": "code",
      "metadata": {
        "colab": {
          "base_uri": "https://localhost:8080/"
        },
        "id": "YSiBEKFHJ7bY",
        "outputId": "f8db882c-3964-4c7c-d251-78f2cf6fd3aa"
      },
      "source": [
        "\n",
        "f = open('/content/drive/MyDrive/4th_Sem/DL/A2/train_set.pkl', 'rb')   \n",
        "mat = pickle.load(f)         # load file content as mydict\n",
        "f.close()\n",
        "\n",
        "f1 = open('/content/drive/MyDrive/4th_Sem/DL/A2/val_set.pkl', 'rb')  \n",
        "mat1 = pickle.load(f1)         \n",
        "f1.close()\n",
        "\n",
        "X = mat['Image']\n",
        "X_train=np.empty(shape=(10000,28,28),dtype='float')\n",
        "Y_train = mat['Labels']\n",
        "for x in range(len(X)):\n",
        "  X_train[x] = np.asarray(X[x])\n",
        "\n",
        "X_train = X_train.reshape(10000,784).T/255\n",
        "print(X_train.shape)\n",
        "print(Y_train.shape)\n",
        "\n",
        "X = mat1['Image']\n",
        "X_val=np.empty(shape=(2000,28,28),dtype='float')\n",
        "Y_val = mat1['Labels']\n",
        "for x in range(len(X)):\n",
        "  X_val[x] = np.asarray(X[x])\n",
        "\n",
        "X_val = X_val.reshape(2000,784).T/255\n",
        "print(X_val.shape)\n",
        "print(Y_val.shape)"
      ],
      "execution_count": null,
      "outputs": [
        {
          "output_type": "stream",
          "text": [
            "(784, 10000)\n",
            "(10000,)\n",
            "(784, 2000)\n",
            "(2000,)\n"
          ],
          "name": "stdout"
        }
      ]
    },
    {
      "cell_type": "code",
      "metadata": {
        "id": "3qgVSxQvnYI7"
      },
      "source": [
        "class activation:\n",
        "  def __init__(self,func):\n",
        "    self.func=func\n",
        "\n",
        "  def forward_activation(self,Z):\n",
        "    if self.func == 'ReLU':\n",
        "      return np.maximum(Z, 0)\n",
        "    elif self.func == 'sigmoid':\n",
        "      return 1/(1+np.exp(-Z))\n",
        "    elif self.func == 'tanh':\n",
        "      return 2/(1+np.exp(-2*Z))-1\n",
        "\n",
        "  def back_activation(self,Z):\n",
        "    if self.func == 'ReLU':\n",
        "      return (Z > 0)\n",
        "    elif self.func == 'sigmoid':\n",
        "      return (1/(1+np.exp(-Z)))*(1-1/(1+np.exp(-Z)))\n",
        "    elif self.func == 'tanh':\n",
        "      return 1-(2/(1+np.exp(-2*Z))-1)*(2/(1+np.exp(-2*Z))-1)\n"
      ],
      "execution_count": null,
      "outputs": []
    },
    {
      "cell_type": "code",
      "metadata": {
        "id": "NVInzOAYj8lY"
      },
      "source": [
        "class optimize():\n",
        "  def __init__(self,opt):\n",
        "    self.opt=opt\n",
        "    self.vw1=0\n",
        "    self.vb1=0\n",
        "    self.vw2=0\n",
        "    self.vb2=0\n",
        "    self.Mw1=0\n",
        "    self.Rw1=0\n",
        "    self.Mb1=0\n",
        "    self.Rb1=0\n",
        "    self.Mw2=0\n",
        "    self.Rw2=0\n",
        "    self.Mb2=0\n",
        "    self.Rb2=0\n",
        "    self.t=0\n",
        "    \n",
        "\n",
        "  def optimizer(self,lr,W1, b1, W2, b2,dW1, db1, dW2, db2):\n",
        "   \n",
        "   if (self.opt=='GD'):\n",
        "      W1 = W1 - lr * dW1\n",
        "      b1 = b1 - lr * db1    \n",
        "      W2 = W2 - lr * dW2  \n",
        "      b2 = b2 - lr * db2  \n",
        "      return W1,b1,W2,b2\n",
        "\n",
        "   elif (self.opt=='GDM'):\n",
        "      gamma = .9\n",
        "      self.vw1=gamma*self.vw1 - lr*dW1 \n",
        "      self.vb1=gamma*self.vb1 - lr*db1\n",
        "      self.vw2=gamma*self.vw2 - lr*dW2\n",
        "      self.vb2=gamma*self.vb2 - lr*db2\n",
        "      W1 = W1 + self.vw1\n",
        "      b1 = b1 + self.vb1\n",
        "      W2 = W2 + self.vw2\n",
        "      b2 = b2 + self.vb2\n",
        "      return W1,b1,W2,b2\n",
        "    \n",
        "   elif (self.opt=='NAG'):\n",
        "      gamma = .9\n",
        "    \n",
        "      W1 = W1 + gamma*self.vw1- lr * dW1\n",
        "      b1 = b1 + gamma*self.vb1- lr * db1\n",
        "      W2 = W2 + gamma*self.vw2- lr * dW2\n",
        "      b2 = b2 + gamma*self.vb2- lr * db2\n",
        "      \n",
        "      self.vw1=gamma*self.vw1 - lr*dW1 \n",
        "      self.vb1=gamma*self.vb1 - lr*db1\n",
        "      self.vw2=gamma*self.vw2 - lr*dW2\n",
        "      self.vb2=gamma*self.vb2 - lr*db2\n",
        "      return W1,b1,W2,b2\n",
        "\n",
        "   elif (self.opt=='adagrad'):\n",
        "      \n",
        "      self.vw1+=dW1**2\n",
        "      self.vb1+=db1**2\n",
        "      self.vw2+=dW2**2\n",
        "      self.vb2+=db2**2\n",
        "\n",
        "      W1= W1 - lr * dW1/(np.sqrt(self.vw1) + 0.00001)\n",
        "      b1= b1 - lr * db1/(np.sqrt(self.vb1) + 0.00001)    \n",
        "      W2= W2 - lr * dW2/(np.sqrt(self.vw2) + 0.00001)  \n",
        "      b2= b2 - lr * db2/(np.sqrt(self.vb2) + 0.00001)  \n",
        "      return W1,b1,W2,b2\n",
        "\n",
        "   elif (self.opt=='RMSprop'):\n",
        "      gamma = .9\n",
        "      \n",
        "      self.vw1=gamma*self.vw1+(1-gamma)*(dW1**2)\n",
        "      self.vb1=gamma*self.vb1+(1-gamma)*(db1**2)\n",
        "      self.vw2=gamma*self.vw2+(1-gamma)*(dW2**2)\n",
        "      self.vb2=gamma*self.vb2+(1-gamma)*(db2**2)\n",
        "\n",
        "      W1= W1 - lr * dW1/(np.sqrt(self.vw1) + 0.0000001)\n",
        "      b1= b1 - lr * db1/(np.sqrt(self.vb1) + 0.0000001)    \n",
        "      W2= W2 - lr * dW2/(np.sqrt(self.vw2) + 0.0000001)  \n",
        "      b2= b2 - lr * db2/(np.sqrt(self.vb2) + 0.0000001)  \n",
        "      return W1,b1,W2,b2\n",
        "    \n",
        "   elif (self.opt=='ADAM'):\n",
        "      beta1 = .9\n",
        "      beta2 = .999\n",
        "      self.t+=1\n",
        "      \n",
        "      self.Mw1=beta1*self.Mw1+(1-beta1)*(dW1)/(1. - beta1**(self.t))\n",
        "      self.Mb1=beta1*self.Mb1+(1-beta1)*(db1)/(1. - beta1**(self.t))\n",
        "      self.Mw2=beta1*self.Mw2+(1-beta1)*(dW2)/(1. - beta1**(self.t))\n",
        "      self.Mb2=beta1*self.Mb2+(1-beta1)*(db2)/(1. - beta1**(self.t))\n",
        "\n",
        "      self.Rw1=beta2*self.Rw1+(1-beta2)*(dW1**2)/(1. - beta2**(self.t))\n",
        "      self.Rb1=beta2*self.Rb1+(1-beta2)*(db1**2)/(1. - beta2**(self.t))\n",
        "      self.Rw2=beta2*self.Rw2+(1-beta2)*(dW2**2)/(1. - beta2**(self.t))\n",
        "      self.Rb2=beta2*self.Rb2+(1-beta2)*(db2**2)/(1. - beta2**(self.t))\n",
        "\n",
        "      W1= W1 + lr * self.Mw1/(np.sqrt(self.Rw1) + 0.000001)\n",
        "      b1= b1 + lr * self.Mb1/(np.sqrt(self.Rb1) + 0.000001)    \n",
        "      W2= W2 + lr * self.Mw2/(np.sqrt(self.Rw2) + 0.000001)  \n",
        "      b2= b2 + lr * self.Mb2/(np.sqrt(self.Rb2) + 0.000001)  \n",
        "\n",
        "\n",
        "      return W1,b1,W2,b2\n",
        "\n",
        "\n",
        "\n",
        "\n",
        "\n",
        "    \n"
      ],
      "execution_count": null,
      "outputs": []
    },
    {
      "cell_type": "code",
      "metadata": {
        "id": "la22eoxT4W7G"
      },
      "source": [
        "class wt_init():\n",
        "  def __init__(self,wt_tech):\n",
        "    self.wt_tech=wt_tech\n",
        "    self.W1 = np.random.rand(10, 784) - 0.5\n",
        "    self.b1 = np.random.rand(10, 1) - 0.5\n",
        "    self.W2 = np.random.rand(10, 10) - 0.5\n",
        "    self.b2 = np.random.rand(10, 1) - 0.5\n",
        "\n",
        "  def init_tech(self):\n",
        "\n",
        "    if (self.wt_tech == 'Xavier'):\n",
        "      self.W1 = (np.random.rand(10, 784) - 0.5)*1/math.sqrt(784)\n",
        "      self.b1 = (np.random.rand(10, 1) - 0.5)*1/math.sqrt(784)\n",
        "      self.W2 = (np.random.rand(10, 10) - 0.5)*1/math.sqrt(10)\n",
        "      self.b2 = (np.random.rand(10, 1) - 0.5)*1/math.sqrt(10)\n",
        "      return self.W1, self.b1, self.W2, self.b2\n",
        "\n",
        "    elif (self.wt_tech == 'He'):\n",
        "      self.W1 = (np.random.rand(10, 784) - 0.5)*math.sqrt(2/784)\n",
        "      self.b1 = (np.random.rand(10, 1) - 0.5)*math.sqrt(2/784)\n",
        "      self.W2 = (np.random.rand(10, 10) - 0.5)*math.sqrt(2/10)\n",
        "      self.b2 = (np.random.rand(10, 1) - 0.5)*math.sqrt(2/10)\n",
        "      return self.W1, self.b1, self.W2, self.b2\n",
        "    \n",
        "    else :\n",
        "      return self.W1, self.b1, self.W2, self.b2\n",
        "\n"
      ],
      "execution_count": null,
      "outputs": []
    },
    {
      "cell_type": "code",
      "metadata": {
        "id": "WyuivSHSA5R6"
      },
      "source": [
        "class regularizer():\n",
        "  def __init__(self,reg):\n",
        "    self.reg=reg\n",
        "\n",
        "  def regularizer_method(self,W1,b1,W2,b2):\n",
        "    if (self.reg=='L1'):\n",
        "      W1=W1+0.5*np.mean(np.absolute(W1))\n",
        "      W2=W2+0.5*np.mean(np.absolute(W2))\n",
        "      b1=b1+0.5*np.mean(np.absolute(b1))\n",
        "      b2=b2+0.5*np.mean(np.absolute(b2))\n",
        "      return W1,b1,W2,b2\n",
        "    \n",
        "    elif (self.reg=='L2'):\n",
        "      W1=W1+0.5*np.mean(W1**2)\n",
        "      b1=b1+0.5*np.mean(b1**2)\n",
        "      W2=W2+0.5*np.mean(W2**2)\n",
        "      b2=b2+0.5*np.mean(b2**2)\n",
        "      return W1,b1,W2,b2\n",
        "    \n",
        "    elif (self.reg=='Dropout'):\n",
        "      W1=np.multiply((np.random.rand(W1.shape[0], W1.shape[1])<0.8),W1)\n",
        "      b1=np.multiply((np.random.rand(b1.shape[0], b1.shape[1])<0.8),b1)\n",
        "      W2=np.multiply((np.random.rand(W2.shape[0], W2.shape[1])<0.8),W2)\n",
        "      b2=np.multiply((np.random.rand(b2.shape[0], b2.shape[1])<0.8),b2)\n",
        "      return W1,b1,W2,b2\n",
        "\n",
        "    else :\n",
        "      return W1,b1,W2,b2\n"
      ],
      "execution_count": null,
      "outputs": []
    },
    {
      "cell_type": "code",
      "metadata": {
        "id": "LSOlvU62C6I8"
      },
      "source": [
        "class MLPClassifier(activation,optimize,wt_init,regularizer):\n",
        "  \n",
        "  def __init__(self,lr,epochs,func='ReLU',opt='GD',wt_tech='random',reg='L2'):\n",
        "    self.X=0\n",
        "    self.Y=0\n",
        "    self.lr=lr\n",
        "    self.epochs=epochs\n",
        "    activation.__init__(self,func)\n",
        "    optimize.__init__(self,opt)\n",
        "    wt_init.__init__(self,wt_tech)\n",
        "    regularizer.__init__(self,wt_tech)\n",
        "\n",
        "\n",
        "  \n",
        "  def softmax(self,Z):\n",
        "    A = np.exp(Z) / sum(np.exp(Z))\n",
        "    return A\n",
        "\n",
        "  def forward_prop(self,X,W1, b1, W2, b2):\n",
        "    Z1 = W1.dot(X) + b1\n",
        "    A1 = self.forward_activation(Z1)\n",
        "    Z2 = W2.dot(A1) + b2\n",
        "    A2 = self.softmax(Z2)\n",
        "    return Z1, A1, Z2, A2\n",
        "\n",
        "\n",
        "  def backward_prop(self,Z1, A1, Z2, A2, W1, b1, W2, b2,X,Y):\n",
        "    m=Y.size\n",
        "    one_hot_Y = label_binarize(Y, classes=[0, 1, 2,3,4,5,6,7,8,9])\n",
        "    dZ2 = A2 - one_hot_Y.T\n",
        "    dW2 = 1 / m * dZ2.dot(A1.T)\n",
        "    db2 = 1 / m * np.sum(dZ2)\n",
        "    dZ1 = W2.T.dot(dZ2) * self.back_activation(Z1)\n",
        "    dW1 = 1 / m * dZ1.dot(X.T)\n",
        "    db1 = 1 / m * np.sum(dZ1)\n",
        "    return dW1, db1, dW2, db2\n",
        "\n",
        "  def get_minibatch(X, y, minibatch_size):\n",
        "    minibatches = []\n",
        "\n",
        "    X, y = shuffle(X, y)\n",
        "\n",
        "    for i in range(0, X.shape[0], minibatch_size):\n",
        "        X_mini = X[i:i + minibatch_size]\n",
        "        y_mini = y[i:i + minibatch_size]\n",
        "\n",
        "        minibatches.append((X_mini, y_mini))\n",
        "\n",
        "    return minibatches\n",
        "\n",
        "  def dropout(W, keep_proba):\n",
        "    return np.multiply((np.random.rand(W.shape[0], W.shape[1])<0.8),W)\n",
        "\n",
        "    \n",
        "\n",
        "\n",
        "  def fit(self,X1,Y1,X2,Y2):\n",
        "    X_train=X1\n",
        "    Y_train=Y1\n",
        "    X_test=X2\n",
        "    y_test=Y2\n",
        "\n",
        "\n",
        "    \n",
        "    W1, b1, W2, b2 = self.init_tech()\n",
        "    Train_loss=[]\n",
        "    Test_loss=[]\n",
        "    Epochs=[]\n",
        "    test=[]\n",
        "\n",
        "    for i in range(self.epochs):\n",
        "        Z1, A1, Z2, A2 = self.forward_prop(X_train,W1, b1, W2, b2)\n",
        "        dW1, db1, dW2, db2 = self.backward_prop(Z1, A1, Z2, A2, W1, b1, W2, b2,X_train,Y_train)\n",
        "        W1,b1,W2,b2=self.optimizer(self.lr,W1, b1, W2, b2,dW1, db1, dW2, db2)\n",
        "        W1,b1,W2,b2=self.regularizer_method(W1,b1,W2,b2)\n",
        "        _, _, _, Y_pred = self.forward_prop(X_test,W1, b1, W2, b2)\n",
        "\n",
        "        if i % 10 == 0:\n",
        "            predictions = np.argmax(A2, 0)\n",
        "            \n",
        "            Y_pred= np.argmax(Y_pred, 0)\n",
        "            Y_pred=np.array(Y_pred)\n",
        "            y_true=np.array(Y_train)\n",
        "\n",
        "            acc=np.sum(predictions == Y_train) / Y_train.size\n",
        "            err_train=mean_squared_error(Y_train, predictions)\n",
        "            err_test=mean_squared_error(y_test, Y_pred)\n",
        "            Train_loss.append(err_train)\n",
        "            Test_loss.append(err_test)\n",
        "            Epochs.append(i)\n",
        "            test.append(Y_pred)\n",
        "\n",
        "    return W1, b1, W2, b2,predictions,acc,Train_loss,Test_loss,Epochs\n",
        "\n",
        "  def get_predictions(self,X_train,Y_train,X_test):\n",
        "    W1, b1, W2, b2,_, _, _, _ = self.fit(X_train,Y_train)\n",
        "    Z1, A1, Z2, A2 = self.forward_prop(X_train,W1, b1, W2, b2)\n",
        "    predictions = np.argmax(A2, 0)\n",
        "    return predictions\n",
        "\n",
        "  def get_loss(self,X,Y):\n",
        "    W1, b1, W2, b2,Y_pred,acc,train_loss,test_loss,epochs=self.fit(X,Y)\n",
        "    return train_loss,test_loss,epochs\n",
        "\n",
        "  def get_proba(self,X_train,Y_train):\n",
        "    _,_,_,_,A,_=self.fit(X_train,Y_train)\n",
        "    return A\n",
        "\n",
        "  def get_params(self,X_train,Y_train):\n",
        "    W1, b1, W2, b2 , _,_=self.fit(X_train,Y_train)\n",
        "    return W1, b1, W2, b2\n",
        "\n",
        "  def Score(self,X_train,Y_train):\n",
        "    _, _, _, _ , _,acc=self.fit(X_train,Y_train)\n",
        "    return acc\n",
        "    \n"
      ],
      "execution_count": null,
      "outputs": []
    },
    {
      "cell_type": "markdown",
      "metadata": {
        "id": "ppezWdQzofQO"
      },
      "source": [
        "SGD with ReLU"
      ]
    },
    {
      "cell_type": "code",
      "metadata": {
        "id": "jQECrWJ4Ecb-",
        "colab": {
          "base_uri": "https://localhost:8080/"
        },
        "outputId": "c3c83d15-fe85-41cd-fa25-3ff47b97b031"
      },
      "source": [
        "model= MLPClassifier(0.1,200,func='ReLU',opt='NAG',wt_tech='He',reg='Dropout')\n",
        "W1, b1, W2, b2,predictions,acc,Train_loss,Test_loss,Epochs=model.fit(X_train,Y_train,X_val,Y_val)\n",
        "print('MLP accuracy With ReLU',acc)"
      ],
      "execution_count": null,
      "outputs": [
        {
          "output_type": "stream",
          "text": [
            "MLP accuracy With ReLU 0.9416\n"
          ],
          "name": "stdout"
        }
      ]
    },
    {
      "cell_type": "code",
      "metadata": {
        "colab": {
          "base_uri": "https://localhost:8080/",
          "height": 295
        },
        "id": "Wa677bHIRT9N",
        "outputId": "8694dd8b-ba80-4a21-e3fe-4c14fc337b69"
      },
      "source": [
        "plt.plot(Epochs,Train_loss)\n",
        "plt.xlabel('Epochs') \n",
        "plt.ylabel('Loss')\n",
        "plt.title('Train Loss')\n",
        "plt.show()"
      ],
      "execution_count": null,
      "outputs": [
        {
          "output_type": "display_data",
          "data": {
            "image/png": "[encoded data removed]",
            "text/plain": [
              "<Figure size 432x288 with 1 Axes>"
            ]
          },
          "metadata": {
            "tags": [],
            "needs_background": "light"
          }
        }
      ]
    },
    {
      "cell_type": "code",
      "metadata": {
        "colab": {
          "base_uri": "https://localhost:8080/",
          "height": 295
        },
        "id": "LSMzLV8_RV2L",
        "outputId": "e2360fc2-0ba8-413d-cec8-7e5781906864"
      },
      "source": [
        "plt.plot(Epochs,Test_loss)\n",
        "plt.xlabel('Epochs') \n",
        "plt.ylabel('Loss')\n",
        "plt.title('Test Loss')\n",
        "plt.show()"
      ],
      "execution_count": null,
      "outputs": [
        {
          "output_type": "display_data",
          "data": {
            "image/png": "[encoded data removed]",
            "text/plain": [
              "<Figure size 432x288 with 1 Axes>"
            ]
          },
          "metadata": {
            "tags": [],
            "needs_background": "light"
          }
        }
      ]
    },
    {
      "cell_type": "code",
      "metadata": {
        "colab": {
          "base_uri": "https://localhost:8080/"
        },
        "id": "MdS0tYOHRpRf",
        "outputId": "07a58b80-0909-49f6-9996-adcbb8533102"
      },
      "source": [
        "from sklearn.metrics import confusion_matrix\n",
        "print('Confusion Matrix')\n",
        "confusion_matrix(Y_train, predictions)"
      ],
      "execution_count": null,
      "outputs": [
        {
          "output_type": "stream",
          "text": [
            "Confusion Matrix\n"
          ],
          "name": "stdout"
        },
        {
          "output_type": "execute_result",
          "data": {
            "text/plain": [
              "array([[984,   0,   2,   1,   3,   1,   1,   3,   5,   0],\n",
              "       [  0, 978,   4,   3,   2,   5,   0,   0,   6,   2],\n",
              "       [  3,  11, 916,  13,   9,   8,   7,   6,  20,   7],\n",
              "       [  2,   7,  23, 901,   2,  35,   1,  10,   8,  11],\n",
              "       [  1,   5,   6,   0, 945,   0,   8,   1,   7,  27],\n",
              "       [  8,   4,   5,  29,  10, 908,  12,   1,  18,   5],\n",
              "       [  5,   2,   3,   0,   4,   7, 972,   1,   5,   1],\n",
              "       [  3,   6,   9,   4,  10,   0,   0, 954,   1,  13],\n",
              "       [  4,  14,  10,  15,   7,  12,   9,   1, 919,   9],\n",
              "       [  6,   1,   1,  12,  13,   1,   0,  22,   5, 939]])"
            ]
          },
          "metadata": {
            "tags": []
          },
          "execution_count": 193
        }
      ]
    },
    {
      "cell_type": "code",
      "metadata": {
        "id": "rgBNF0fWZa-U"
      },
      "source": [
        "filename = 'finalized_model.sav'\n",
        "pickle.dump(model, open(filename, 'wb'))"
      ],
      "execution_count": null,
      "outputs": []
    }
  ]
}