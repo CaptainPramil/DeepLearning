{
  "nbformat": 4,
  "nbformat_minor": 0,
  "metadata": {
    "colab": {
      "name": "dl_toolkit.py",
      "provenance": [],
      "collapsed_sections": []
    },
    "kernelspec": {
      "name": "python3",
      "display_name": "Python 3"
    }
  },
  "cells": [
    {
      "cell_type": "code",
      "metadata": {
        "id": "Qh7tqeMPBPDw",
        "colab": {
          "base_uri": "https://localhost:8080/"
        },
        "outputId": "0bd54dc4-b4f6-43a8-8598-cf87fe613e5b"
      },
      "source": [
        "import numpy as np\n",
        "import pandas as pd\n",
        "from matplotlib import pyplot as plt\n",
        "from sklearn.preprocessing import OneHotEncoder\n",
        "import pickle\n",
        "from google.colab import drive\n",
        "from sklearn.metrics import log_loss\n",
        "from sklearn.metrics import mean_squared_error\n",
        "from sklearn.model_selection import train_test_split\n",
        "from sklearn.preprocessing import label_binarize\n",
        "from sklearn.metrics import roc_curve, auc\n",
        "from scipy import interp\n",
        "from itertools import cycle\n",
        "\n",
        "\n",
        "drive.mount('/content/drive')"
      ],
      "execution_count": null,
      "outputs": [
        {
          "output_type": "stream",
          "text": [
            "Drive already mounted at /content/drive; to attempt to forcibly remount, call drive.mount(\"/content/drive\", force_remount=True).\n"
          ],
          "name": "stdout"
        }
      ]
    },
    {
      "cell_type": "code",
      "metadata": {
        "id": "lBIsDRVLGagq"
      },
      "source": [
        "def one_hot(Y):\n",
        "    one_hot_Y = np.zeros((Y.size, Y.max() + 1))\n",
        "    one_hot_Y[np.arange(Y.size), Y] = 1\n",
        "    one_hot_Y = one_hot_Y.T\n",
        "    return one_hot_Y"
      ],
      "execution_count": null,
      "outputs": []
    },
    {
      "cell_type": "code",
      "metadata": {
        "id": "YSiBEKFHJ7bY"
      },
      "source": [
        "\n",
        "f = open('/content/drive/MyDrive/4th_Sem/DL/A2/train_set.pkl', 'rb')   \n",
        "mat = pickle.load(f)         # load file content as mydict\n",
        "f.close()\n",
        "\n",
        "f1 = open('/content/drive/MyDrive/4th_Sem/DL/A2/val_set.pkl', 'rb')  \n",
        "mat1 = pickle.load(f1)         \n",
        "f1.close()\n",
        "\n",
        "X = mat['Image']\n"
      ],
      "execution_count": null,
      "outputs": []
    },
    {
      "cell_type": "code",
      "metadata": {
        "id": "msuRq1oVL14h",
        "colab": {
          "base_uri": "https://localhost:8080/",
          "height": 45
        },
        "outputId": "80d20d4b-9002-40a1-a153-a02bd4d37605"
      },
      "source": [
        "X[0]"
      ],
      "execution_count": null,
      "outputs": [
        {
          "output_type": "execute_result",
          "data": {
            "image/png": "[encoded data removed]",
            "text/plain": [
              "<PIL.Image.Image image mode=L size=28x28 at 0x7FF44C77CC90>"
            ]
          },
          "metadata": {
            "tags": []
          },
          "execution_count": 3
        }
      ]
    },
    {
      "cell_type": "code",
      "metadata": {
        "id": "MGyiRQLhLs_Y"
      },
      "source": [
        "X=np.empty(shape=(10000,28,28),dtype='float')\n",
        "Y = mat['Labels']\n",
        "for x in range(len(X)):\n",
        "  X[x] = np.asarray(X[x])\n",
        "\n",
        "X = X.reshape(10000,784).T/255\n",
        "print(X.shape)\n",
        "Y=Y.values.reshape(-1,1)\n",
        "print(Y.shape)"
      ],
      "execution_count": null,
      "outputs": []
    },
    {
      "cell_type": "code",
      "metadata": {
        "id": "3qgVSxQvnYI7"
      },
      "source": [
        "class activation:\n",
        "  def __init__(self,func):\n",
        "    self.func=func\n",
        "\n",
        "  def forward_activation(self,Z):\n",
        "    if self.func == 'ReLU':\n",
        "      return np.maximum(Z, 0)\n",
        "    elif self.func == 'sigmoid':\n",
        "      return 1/(1+np.exp(-Z))\n",
        "    elif self.func == 'tanh':\n",
        "      return 2/(1+np.exp(-2*Z))-1\n",
        "\n",
        "  def back_activation(self,Z):\n",
        "    if self.func == 'ReLU':\n",
        "      return (Z > 0)\n",
        "    elif self.func == 'sigmoid':\n",
        "      return (1/(1+np.exp(-Z)))*(1-1/(1+np.exp(-Z)))\n",
        "    elif self.func == 'tanh':\n",
        "      return 1-(2/(1+np.exp(-2*Z))-1)*(2/(1+np.exp(-2*Z))-1)\n"
      ],
      "execution_count": null,
      "outputs": []
    },
    {
      "cell_type": "code",
      "metadata": {
        "id": "CbYPCJAxzeou"
      },
      "source": [
        "class wt_init():\n",
        "  def __init__(self,wt_tech):\n",
        "    self.wt_tech=wt_tech\n",
        "    self.W1 = np.random.rand(10, 784) - 0.5\n",
        "    self.b1 = np.random.rand(10, 1) - 0.5\n",
        "    self.W2 = np.random.rand(10, 10) - 0.5\n",
        "    self.b2 = np.random.rand(10, 1) - 0.5\n",
        "\n",
        "  def init_tech(self):\n",
        "    if (self.wt_tech == 'random'):\n",
        "      return self.W1, self.b1, self.W2, self.b2\n",
        "\n",
        "\n",
        "\n"
      ],
      "execution_count": null,
      "outputs": []
    },
    {
      "cell_type": "code",
      "metadata": {
        "id": "NVInzOAYj8lY"
      },
      "source": [
        "class optimize():\n",
        "  def __init__(self,opt):\n",
        "    self.opt=opt\n",
        "\n",
        "  def optimizer(self,lr,W1, b1, W2, b2,dW1, db1, dW2, db2):\n",
        "   if (self.opt=='SGD'):\n",
        "      W1 = W1 - lr * dW1\n",
        "      b1 = b1 - lr * db1    \n",
        "      W2 = W2 - lr * dW2  \n",
        "      b2 = b2 - lr * db2  \n",
        "      return W1,b1,W2,b2\n",
        "\n",
        "    #elif (opt=='GDM'):\n",
        "\n",
        "      #return W1,b1,W2,b2\n",
        "\n",
        "\n",
        "\n",
        "\n",
        "    \n"
      ],
      "execution_count": null,
      "outputs": []
    },
    {
      "cell_type": "code",
      "metadata": {
        "id": "LSOlvU62C6I8"
      },
      "source": [
        "class MLPClassifier(activation,optimize,wt_init):\n",
        "  \n",
        "  def __init__(self,lr,epochs,func='ReLU',opt='SGD',wt_tech='random'):\n",
        "    self.lr=lr\n",
        "    self.epochs=epochs\n",
        "    activation.__init__(self,func)\n",
        "    optimize.__init__(self,opt)\n",
        "    wt_init.__init__(self,wt_tech)\n",
        "\n",
        "  \n",
        "  def softmax(self,Z):\n",
        "    A = np.exp(Z) / sum(np.exp(Z))\n",
        "    return A\n",
        "\n",
        "  def forward_prop(self,X,W1, b1, W2, b2):\n",
        "    Z1 = W1.dot(X.T) + b1\n",
        "    A1 = self.forward_activation(Z1)\n",
        "    Z2 = W2.dot(A1) + b2\n",
        "    A2 = self.softmax(Z2)\n",
        "    return Z1, A1, Z2, A2\n",
        "\n",
        "  def backward_prop(self,Z1, A1, Z2, A2, W1, b1, W2, b2,X,Y):\n",
        "    \n",
        "    m=Y.size\n",
        "    one_hot_Y = label_binarize(Y, classes=[0, 1, 2,3,4,5,6,7,8,9])\n",
        "    dZ2 = A2 - one_hot_Y.T\n",
        "    dW2 = 1 / m * dZ2.dot(A1.T)\n",
        "    db2 = 1 / m * np.sum(dZ2)\n",
        "    dZ1 = W2.T.dot(dZ2) * self.back_activation(Z1)\n",
        "    dW1 = 1 / m * dZ1.dot(X)\n",
        "    db1 = 1 / m * np.sum(dZ1)\n",
        "    return dW1, db1, dW2, db2\n",
        "\n",
        "\n",
        "  def fit(self,X1,Y1):\n",
        " \n",
        "    self.X_train, self.X_test, self.Y_train, self.y_test = train_test_split(X1.T, Y1, test_size=0.33, random_state=42)\n",
        "\n",
        "\n",
        "    \n",
        "    W1, b1, W2, b2 = self.init_tech()\n",
        "\n",
        "    Train_loss=[]\n",
        "    Test_loss=[]\n",
        "    Epochs=[]\n",
        "\n",
        "    for i in range(self.epochs):\n",
        "        Z1, A1, Z2, A2 = self.forward_prop(self.X_train,W1, b1, W2, b2)\n",
        "        dW1, db1, dW2, db2 = self.backward_prop(Z1, A1, Z2, A2, W1, b1, W2, b2,self.X_train,self.Y_train)\n",
        "        W1,b1,W2,b2=self.optimizer(self.lr,W1, b1, W2, b2,dW1, db1, dW2, db2)\n",
        "        _, _, _, self.Y_pred = self.forward_prop(self.X_test,W1, b1, W2, b2)\n",
        "\n",
        "        if i % 10 == 0:\n",
        "            predictions = np.argmax(A2, 0)\n",
        "            \n",
        "            Y_pred= np.argmax(self.Y_pred, 0)\n",
        "            Y_pred=np.array(Y_pred)\n",
        "            y_true=np.array(self.Y_train)\n",
        "\n",
        "            acc=np.sum(predictions == self.Y_train) / self.Y_train.size\n",
        "            acc_test=np.sum(Y_pred == self.y_test) / self.y_test.size\n",
        "            err_train=mean_squared_error(self.Y_train, predictions)\n",
        "            err_test=mean_squared_error(self.y_test, Y_pred)\n",
        "            print('epochs:',i,'     Train loss:',err_train,'   Val_loss',err_test   )\n",
        "            Train_loss.append(err_train)\n",
        "            Test_loss.append(err_test)\n",
        "            Epochs.append(i)\n",
        "\n",
        "    self.W1=W1\n",
        "    self.b1=b1 \n",
        "    self.W2=W2 \n",
        "    self.b2=b2\n",
        "    self.predictions=predictions\n",
        "    self.acc=acc\n",
        "    self.acc_test=acc_test\n",
        "    \n",
        "    return \n",
        "\n",
        "  def get_predictions(self,X):\n",
        "    Z1, A1, Z2, A2 = self.forward_prop(X,self.W1, self.b1, self.W2, self.b2)\n",
        "    predictions = np.argmax(A2, 0)\n",
        "    return predictions\n",
        "\n",
        "  def get_loss(self,X,Y):\n",
        "    W1, b1, W2, b2,predictions,acc,train_loss,test_loss,epochs=self.fit(X,Y)\n",
        "    return train_loss,test_loss,epochs\n",
        "\n",
        "  def get_proba(self,X_train,Y_train):\n",
        "    _,_,_,_,A=self.fit(self.X_train,self.Y_train)\n",
        "    return A\n",
        "\n",
        "  def get_params(self):\n",
        "    return self.W1, self.b1, self.W2, self.b2\n",
        "\n",
        "  def Score(self,X,Y):\n",
        "    predictions=self.get_predictions(X)\n",
        "    acc=np.sum(predictions == Y) / Y.size\n",
        "    return acc\n",
        "    \n"
      ],
      "execution_count": null,
      "outputs": []
    },
    {
      "cell_type": "markdown",
      "metadata": {
        "id": "ppezWdQzofQO"
      },
      "source": [
        "SGD with ReLU"
      ]
    },
    {
      "cell_type": "code",
      "metadata": {
        "id": "jQECrWJ4Ecb-",
        "colab": {
          "base_uri": "https://localhost:8080/"
        },
        "outputId": "26c87234-3aec-4d7e-aed9-22bc26a1c21a"
      },
      "source": [
        "model= MLPClassifier(0.1,500)\n",
        "model.fit(X,Y)\n"
      ],
      "execution_count": null,
      "outputs": [
        {
          "output_type": "stream",
          "text": [
            "epochs: 0      Train loss: 20.611641791044775    Val_loss 20.273333333333333\n",
            "epochs: 10      Train loss: 14.575820895522389    Val_loss 14.346060606060606\n",
            "epochs: 20      Train loss: 14.575820895522389    Val_loss 14.346060606060606\n",
            "epochs: 30      Train loss: 14.575820895522389    Val_loss 14.346060606060606\n",
            "epochs: 40      Train loss: 14.575820895522389    Val_loss 14.346060606060606\n",
            "epochs: 50      Train loss: 14.575820895522389    Val_loss 14.346060606060606\n",
            "epochs: 60      Train loss: 14.575820895522389    Val_loss 14.346060606060606\n",
            "epochs: 70      Train loss: 14.575820895522389    Val_loss 14.346060606060606\n",
            "epochs: 80      Train loss: 14.575820895522389    Val_loss 14.346060606060606\n",
            "epochs: 90      Train loss: 14.575820895522389    Val_loss 14.346060606060606\n",
            "epochs: 100      Train loss: 14.575820895522389    Val_loss 14.346060606060606\n",
            "epochs: 110      Train loss: 14.575820895522389    Val_loss 14.346060606060606\n",
            "epochs: 120      Train loss: 14.575820895522389    Val_loss 20.273333333333333\n",
            "epochs: 130      Train loss: 20.611641791044775    Val_loss 20.273333333333333\n",
            "epochs: 140      Train loss: 20.611641791044775    Val_loss 20.273333333333333\n",
            "epochs: 150      Train loss: 20.611641791044775    Val_loss 20.273333333333333\n",
            "epochs: 160      Train loss: 20.611641791044775    Val_loss 20.273333333333333\n",
            "epochs: 170      Train loss: 20.611641791044775    Val_loss 20.273333333333333\n",
            "epochs: 180      Train loss: 20.611641791044775    Val_loss 20.273333333333333\n",
            "epochs: 190      Train loss: 20.611641791044775    Val_loss 20.273333333333333\n",
            "epochs: 200      Train loss: 20.611641791044775    Val_loss 20.273333333333333\n",
            "epochs: 210      Train loss: 20.611641791044775    Val_loss 20.273333333333333\n",
            "epochs: 220      Train loss: 20.611641791044775    Val_loss 20.273333333333333\n",
            "epochs: 230      Train loss: 20.611641791044775    Val_loss 20.273333333333333\n",
            "epochs: 240      Train loss: 20.611641791044775    Val_loss 20.273333333333333\n",
            "epochs: 250      Train loss: 20.611641791044775    Val_loss 20.273333333333333\n",
            "epochs: 260      Train loss: 20.611641791044775    Val_loss 20.273333333333333\n",
            "epochs: 270      Train loss: 20.611641791044775    Val_loss 20.273333333333333\n",
            "epochs: 280      Train loss: 20.611641791044775    Val_loss 20.273333333333333\n",
            "epochs: 290      Train loss: 20.611641791044775    Val_loss 20.273333333333333\n",
            "epochs: 300      Train loss: 20.611641791044775    Val_loss 20.273333333333333\n",
            "epochs: 310      Train loss: 20.611641791044775    Val_loss 20.273333333333333\n",
            "epochs: 320      Train loss: 20.611641791044775    Val_loss 20.273333333333333\n",
            "epochs: 330      Train loss: 20.611641791044775    Val_loss 20.273333333333333\n",
            "epochs: 340      Train loss: 20.611641791044775    Val_loss 20.273333333333333\n",
            "epochs: 350      Train loss: 20.611641791044775    Val_loss 20.273333333333333\n",
            "epochs: 360      Train loss: 20.611641791044775    Val_loss 20.273333333333333\n",
            "epochs: 370      Train loss: 20.611641791044775    Val_loss 20.273333333333333\n",
            "epochs: 380      Train loss: 20.611641791044775    Val_loss 20.273333333333333\n",
            "epochs: 390      Train loss: 20.611641791044775    Val_loss 20.273333333333333\n",
            "epochs: 400      Train loss: 10.432537313432835    Val_loss 10.636969696969697\n",
            "epochs: 410      Train loss: 10.432537313432835    Val_loss 10.636969696969697\n",
            "epochs: 420      Train loss: 10.432537313432835    Val_loss 10.636969696969697\n",
            "epochs: 430      Train loss: 10.432537313432835    Val_loss 10.636969696969697\n",
            "epochs: 440      Train loss: 10.432537313432835    Val_loss 10.636969696969697\n",
            "epochs: 450      Train loss: 10.432537313432835    Val_loss 10.636969696969697\n",
            "epochs: 460      Train loss: 10.432537313432835    Val_loss 10.636969696969697\n",
            "epochs: 470      Train loss: 10.432537313432835    Val_loss 10.636969696969697\n",
            "epochs: 480      Train loss: 10.432537313432835    Val_loss 10.636969696969697\n",
            "epochs: 490      Train loss: 10.432537313432835    Val_loss 10.636969696969697\n"
          ],
          "name": "stdout"
        }
      ]
    },
    {
      "cell_type": "code",
      "metadata": {
        "colab": {
          "base_uri": "https://localhost:8080/"
        },
        "id": "1WImDONVP29G",
        "outputId": "0b068582-0eac-44e2-9d2c-b8df6e1d51fb"
      },
      "source": [
        "model.get_params()"
      ],
      "execution_count": null,
      "outputs": [
        {
          "output_type": "execute_result",
          "data": {
            "text/plain": [
              "(array([[-2.70076504e-01, -2.47285106e-01,  4.19844825e-01, ...,\n",
              "         -3.67979435e-01,  1.40950620e-01, -4.99681169e-01],\n",
              "        [-3.66797868e-01,  4.57468778e-01, -2.78787924e-01, ...,\n",
              "          4.84799504e-01, -2.16458142e-01,  5.93047388e-02],\n",
              "        [-6.26792861e-02, -2.05516875e-02, -8.28729941e-02, ...,\n",
              "          4.39741557e-01,  1.41849282e-01,  1.86110173e-02],\n",
              "        ...,\n",
              "        [ 4.16109985e-01, -2.83131045e-01, -5.53378923e-02, ...,\n",
              "          4.86113796e-01,  1.59463903e-01,  2.08832130e-01],\n",
              "        [-7.53841989e-05, -3.87096651e-01, -2.86859726e-01, ...,\n",
              "          3.51522239e-01, -2.30370906e-01, -2.25421329e-01],\n",
              "        [ 1.41892594e-01, -6.73790428e-02, -1.60414988e-01, ...,\n",
              "         -2.93604448e-01, -1.82420021e-02,  4.10704855e-01]]),\n",
              " array([[ 0.27828112],\n",
              "        [-0.0678895 ],\n",
              "        [-0.16418542],\n",
              "        [ 0.06438854],\n",
              "        [ 0.45214128],\n",
              "        [ 0.40028963],\n",
              "        [ 0.42835352],\n",
              "        [ 0.13027696],\n",
              "        [ 0.42617083],\n",
              "        [-0.25983559]]),\n",
              " array([[-0.45112053, -0.30387559,  0.0372034 ,  0.34390793,  0.00411969,\n",
              "          0.45983011, -0.21977883, -0.17990291,  0.0386533 , -0.31673531],\n",
              "        [-0.21184779,  0.45021235,  0.22951715,  0.41973624,  0.30356811,\n",
              "         -0.35580083,  0.12983847,  0.22519405,  0.23502179, -0.37053889],\n",
              "        [-0.43103075, -0.35285756, -0.10177471, -0.17813824, -0.03539511,\n",
              "         -0.02894431, -0.47943761, -0.30343364,  0.04511498, -0.00338767],\n",
              "        [-0.27343218,  0.15382956, -0.28417141, -0.31435937, -0.62592414,\n",
              "         -0.248087  ,  0.33479375,  0.19049343, -0.31220372,  0.44934312],\n",
              "        [ 0.46739772, -0.22755699,  0.41411865, -0.34249301, -0.38378295,\n",
              "          0.28134074, -0.40132757, -0.12112617,  0.29271601,  0.17828154],\n",
              "        [ 0.01984322,  0.18402557,  0.07977312,  0.16059466, -0.21237194,\n",
              "          0.54384836, -0.32158392, -0.02446334, -0.07049689,  0.07889481],\n",
              "        [-0.45858135,  0.41854989,  0.14904494,  0.21870209, -0.40792443,\n",
              "          0.32885107, -0.07475367, -0.49529476,  0.02931676,  0.34178807],\n",
              "        [ 0.04565553,  0.33689187, -0.43551209,  0.08419697,  0.00494199,\n",
              "         -0.12082404,  0.63157438, -0.3460734 ,  0.09854281, -0.43235253],\n",
              "        [-0.44826253, -0.38275032, -0.20315421,  0.34492064,  0.37630154,\n",
              "         -0.12892229,  0.39075324,  0.41136031, -0.24298052,  0.38396021],\n",
              "        [-0.46177183, -0.49812893, -0.37157138,  0.32266989, -0.28822839,\n",
              "         -0.51310399, -0.40366731, -0.08725672, -0.05101463,  0.02648109]]),\n",
              " array([[-0.17391152],\n",
              "        [-0.29853889],\n",
              "        [ 0.21720898],\n",
              "        [ 0.27434064],\n",
              "        [-0.16099661],\n",
              "        [-0.1502494 ],\n",
              "        [ 0.11661447],\n",
              "        [-0.44642109],\n",
              "        [-0.27616331],\n",
              "        [ 0.47940563]]))"
            ]
          },
          "metadata": {
            "tags": []
          },
          "execution_count": 13
        }
      ]
    },
    {
      "cell_type": "code",
      "metadata": {
        "colab": {
          "base_uri": "https://localhost:8080/"
        },
        "id": "xlqwTHHlPBKI",
        "outputId": "013e7446-b12a-4aa1-a76b-7bdf11dfa9c4"
      },
      "source": [
        "X.shape"
      ],
      "execution_count": null,
      "outputs": [
        {
          "output_type": "execute_result",
          "data": {
            "text/plain": [
              "(784, 10000)"
            ]
          },
          "metadata": {
            "tags": []
          },
          "execution_count": 12
        }
      ]
    },
    {
      "cell_type": "code",
      "metadata": {
        "colab": {
          "base_uri": "https://localhost:8080/",
          "height": 303
        },
        "id": "8NDugfUxMf6X",
        "outputId": "fb2173d9-37d7-4813-c0ab-c493115708c3"
      },
      "source": [
        "model.Score(X,Y)"
      ],
      "execution_count": null,
      "outputs": [
        {
          "output_type": "error",
          "ename": "ValueError",
          "evalue": "ignored",
          "traceback": [
            "\u001b[0;31m---------------------------------------------------------------------------\u001b[0m",
            "\u001b[0;31mValueError\u001b[0m                                Traceback (most recent call last)",
            "\u001b[0;32m<ipython-input-16-5a7d230782eb>\u001b[0m in \u001b[0;36m<module>\u001b[0;34m()\u001b[0m\n\u001b[0;32m----> 1\u001b[0;31m \u001b[0mmodel\u001b[0m\u001b[0;34m.\u001b[0m\u001b[0mScore\u001b[0m\u001b[0;34m(\u001b[0m\u001b[0mX\u001b[0m\u001b[0;34m,\u001b[0m\u001b[0mY\u001b[0m\u001b[0;34m)\u001b[0m\u001b[0;34m\u001b[0m\u001b[0;34m\u001b[0m\u001b[0m\n\u001b[0m",
            "\u001b[0;32m<ipython-input-14-935881f23a43>\u001b[0m in \u001b[0;36mScore\u001b[0;34m(self, X, Y)\u001b[0m\n\u001b[1;32m     92\u001b[0m \u001b[0;34m\u001b[0m\u001b[0m\n\u001b[1;32m     93\u001b[0m   \u001b[0;32mdef\u001b[0m \u001b[0mScore\u001b[0m\u001b[0;34m(\u001b[0m\u001b[0mself\u001b[0m\u001b[0;34m,\u001b[0m\u001b[0mX\u001b[0m\u001b[0;34m,\u001b[0m\u001b[0mY\u001b[0m\u001b[0;34m)\u001b[0m\u001b[0;34m:\u001b[0m\u001b[0;34m\u001b[0m\u001b[0;34m\u001b[0m\u001b[0m\n\u001b[0;32m---> 94\u001b[0;31m     \u001b[0mpredictions\u001b[0m\u001b[0;34m=\u001b[0m\u001b[0mself\u001b[0m\u001b[0;34m.\u001b[0m\u001b[0mget_predictions\u001b[0m\u001b[0;34m(\u001b[0m\u001b[0mX\u001b[0m\u001b[0;34m)\u001b[0m\u001b[0;34m\u001b[0m\u001b[0;34m\u001b[0m\u001b[0m\n\u001b[0m\u001b[1;32m     95\u001b[0m     \u001b[0macc\u001b[0m\u001b[0;34m=\u001b[0m\u001b[0mnp\u001b[0m\u001b[0;34m.\u001b[0m\u001b[0msum\u001b[0m\u001b[0;34m(\u001b[0m\u001b[0mpredictions\u001b[0m \u001b[0;34m==\u001b[0m \u001b[0mY\u001b[0m\u001b[0;34m)\u001b[0m \u001b[0;34m/\u001b[0m \u001b[0mY\u001b[0m\u001b[0;34m.\u001b[0m\u001b[0msize\u001b[0m\u001b[0;34m\u001b[0m\u001b[0;34m\u001b[0m\u001b[0m\n\u001b[1;32m     96\u001b[0m     \u001b[0;32mreturn\u001b[0m \u001b[0macc\u001b[0m\u001b[0;34m\u001b[0m\u001b[0;34m\u001b[0m\u001b[0m\n",
            "\u001b[0;32m<ipython-input-14-935881f23a43>\u001b[0m in \u001b[0;36mget_predictions\u001b[0;34m(self, X)\u001b[0m\n\u001b[1;32m     76\u001b[0m \u001b[0;34m\u001b[0m\u001b[0m\n\u001b[1;32m     77\u001b[0m   \u001b[0;32mdef\u001b[0m \u001b[0mget_predictions\u001b[0m\u001b[0;34m(\u001b[0m\u001b[0mself\u001b[0m\u001b[0;34m,\u001b[0m\u001b[0mX\u001b[0m\u001b[0;34m)\u001b[0m\u001b[0;34m:\u001b[0m\u001b[0;34m\u001b[0m\u001b[0;34m\u001b[0m\u001b[0m\n\u001b[0;32m---> 78\u001b[0;31m     \u001b[0mZ1\u001b[0m\u001b[0;34m,\u001b[0m \u001b[0mA1\u001b[0m\u001b[0;34m,\u001b[0m \u001b[0mZ2\u001b[0m\u001b[0;34m,\u001b[0m \u001b[0mA2\u001b[0m \u001b[0;34m=\u001b[0m \u001b[0mself\u001b[0m\u001b[0;34m.\u001b[0m\u001b[0mforward_prop\u001b[0m\u001b[0;34m(\u001b[0m\u001b[0mX\u001b[0m\u001b[0;34m,\u001b[0m\u001b[0mself\u001b[0m\u001b[0;34m.\u001b[0m\u001b[0mW1\u001b[0m\u001b[0;34m,\u001b[0m \u001b[0mself\u001b[0m\u001b[0;34m.\u001b[0m\u001b[0mb1\u001b[0m\u001b[0;34m,\u001b[0m \u001b[0mself\u001b[0m\u001b[0;34m.\u001b[0m\u001b[0mW2\u001b[0m\u001b[0;34m,\u001b[0m \u001b[0mself\u001b[0m\u001b[0;34m.\u001b[0m\u001b[0mb2\u001b[0m\u001b[0;34m)\u001b[0m\u001b[0;34m\u001b[0m\u001b[0;34m\u001b[0m\u001b[0m\n\u001b[0m\u001b[1;32m     79\u001b[0m     \u001b[0mpredictions\u001b[0m \u001b[0;34m=\u001b[0m \u001b[0mnp\u001b[0m\u001b[0;34m.\u001b[0m\u001b[0margmax\u001b[0m\u001b[0;34m(\u001b[0m\u001b[0mA2\u001b[0m\u001b[0;34m,\u001b[0m \u001b[0;36m0\u001b[0m\u001b[0;34m)\u001b[0m\u001b[0;34m\u001b[0m\u001b[0;34m\u001b[0m\u001b[0m\n\u001b[1;32m     80\u001b[0m     \u001b[0;32mreturn\u001b[0m \u001b[0mpredictions\u001b[0m\u001b[0;34m\u001b[0m\u001b[0;34m\u001b[0m\u001b[0m\n",
            "\u001b[0;32m<ipython-input-14-935881f23a43>\u001b[0m in \u001b[0;36mforward_prop\u001b[0;34m(self, X, W1, b1, W2, b2)\u001b[0m\n\u001b[1;32m     14\u001b[0m \u001b[0;34m\u001b[0m\u001b[0m\n\u001b[1;32m     15\u001b[0m   \u001b[0;32mdef\u001b[0m \u001b[0mforward_prop\u001b[0m\u001b[0;34m(\u001b[0m\u001b[0mself\u001b[0m\u001b[0;34m,\u001b[0m\u001b[0mX\u001b[0m\u001b[0;34m,\u001b[0m\u001b[0mW1\u001b[0m\u001b[0;34m,\u001b[0m \u001b[0mb1\u001b[0m\u001b[0;34m,\u001b[0m \u001b[0mW2\u001b[0m\u001b[0;34m,\u001b[0m \u001b[0mb2\u001b[0m\u001b[0;34m)\u001b[0m\u001b[0;34m:\u001b[0m\u001b[0;34m\u001b[0m\u001b[0;34m\u001b[0m\u001b[0m\n\u001b[0;32m---> 16\u001b[0;31m     \u001b[0mZ1\u001b[0m \u001b[0;34m=\u001b[0m \u001b[0mW1\u001b[0m\u001b[0;34m.\u001b[0m\u001b[0mdot\u001b[0m\u001b[0;34m(\u001b[0m\u001b[0mX\u001b[0m\u001b[0;34m.\u001b[0m\u001b[0mT\u001b[0m\u001b[0;34m)\u001b[0m \u001b[0;34m+\u001b[0m \u001b[0mb1\u001b[0m\u001b[0;34m\u001b[0m\u001b[0;34m\u001b[0m\u001b[0m\n\u001b[0m\u001b[1;32m     17\u001b[0m     \u001b[0mA1\u001b[0m \u001b[0;34m=\u001b[0m \u001b[0mself\u001b[0m\u001b[0;34m.\u001b[0m\u001b[0mforward_activation\u001b[0m\u001b[0;34m(\u001b[0m\u001b[0mZ1\u001b[0m\u001b[0;34m)\u001b[0m\u001b[0;34m\u001b[0m\u001b[0;34m\u001b[0m\u001b[0m\n\u001b[1;32m     18\u001b[0m     \u001b[0mZ2\u001b[0m \u001b[0;34m=\u001b[0m \u001b[0mW2\u001b[0m\u001b[0;34m.\u001b[0m\u001b[0mdot\u001b[0m\u001b[0;34m(\u001b[0m\u001b[0mA1\u001b[0m\u001b[0;34m)\u001b[0m \u001b[0;34m+\u001b[0m \u001b[0mb2\u001b[0m\u001b[0;34m\u001b[0m\u001b[0;34m\u001b[0m\u001b[0m\n",
            "\u001b[0;31mValueError\u001b[0m: shapes (10,784) and (10000,784) not aligned: 784 (dim 1) != 10000 (dim 0)"
          ]
        }
      ]
    },
    {
      "cell_type": "code",
      "metadata": {
        "id": "jfbiC5Ql6iq0"
      },
      "source": [
        "'''elif (opt=='ADAGrad'):\n",
        "\n",
        "      return W1,b1,W2,b2\n",
        "\n",
        "    elif (opt=='RMSProp'):\n",
        "\n",
        "      return W1,b1,W2,b2\n",
        "\n",
        "    elif (opt=='ADAM'):\n",
        "\n",
        "      return W1,b1,W2,b2\n",
        "'''"
      ],
      "execution_count": null,
      "outputs": []
    },
    {
      "cell_type": "code",
      "metadata": {
        "id": "UfZycOv0LbuA"
      },
      "source": [
        "X = mat1['Image']\n",
        "X_val=np.empty(shape=(2000,28,28),dtype='float')\n",
        "Y_val = mat1['Labels']\n",
        "for x in range(len(X)):\n",
        "  X_val[x] = np.asarray(X[x])\n",
        "\n",
        "X_val = X_val.reshape(2000,784).T/255\n",
        "print(X_val.shape)\n",
        "print(Y_val.shape)"
      ],
      "execution_count": null,
      "outputs": []
    },
    {
      "cell_type": "code",
      "metadata": {
        "colab": {
          "base_uri": "https://localhost:8080/"
        },
        "id": "ineHOp0Sot50",
        "outputId": "ef5657b1-7d71-422b-cd8f-74e43a5ae99c"
      },
      "source": [
        "print('MLP accuracy With ReLU',acc)"
      ],
      "execution_count": null,
      "outputs": [
        {
          "output_type": "stream",
          "text": [
            "MLP accuracy With ReLU 0.856\n"
          ],
          "name": "stdout"
        }
      ]
    },
    {
      "cell_type": "code",
      "metadata": {
        "colab": {
          "base_uri": "https://localhost:8080/",
          "height": 295
        },
        "id": "I7-IwNuIm_zO",
        "outputId": "49d9ca26-9f6b-4c04-d512-e1b6ef678ee7"
      },
      "source": [
        "plt.plot(Epochs,Train_loss)\n",
        "plt.xlabel('Epochs') \n",
        "plt.ylabel('Loss')\n",
        "plt.title('Training Loss')\n",
        "plt.show() "
      ],
      "execution_count": null,
      "outputs": [
        {
          "output_type": "display_data",
          "data": {
            "image/png": "[encoded data removed]",
            "text/plain": [
              "<Figure size 432x288 with 1 Axes>"
            ]
          },
          "metadata": {
            "tags": [],
            "needs_background": "light"
          }
        }
      ]
    },
    {
      "cell_type": "code",
      "metadata": {
        "colab": {
          "base_uri": "https://localhost:8080/",
          "height": 295
        },
        "id": "ym3lO7_doIWQ",
        "outputId": "756ba191-2839-4a13-8d28-ef2161a1c83f"
      },
      "source": [
        "plt.plot(Epochs,Test_loss)\n",
        "plt.xlabel('Epochs') \n",
        "plt.ylabel('Loss')\n",
        "plt.title('Test Loss')\n",
        "plt.show() "
      ],
      "execution_count": null,
      "outputs": [
        {
          "output_type": "display_data",
          "data": {
            "image/png": "[encoded data removed]",
            "text/plain": [
              "<Figure size 432x288 with 1 Axes>"
            ]
          },
          "metadata": {
            "tags": [],
            "needs_background": "light"
          }
        }
      ]
    },
    {
      "cell_type": "code",
      "metadata": {
        "colab": {
          "base_uri": "https://localhost:8080/",
          "height": 318
        },
        "id": "710lg2hqL8Ng",
        "outputId": "12d41327-5205-491a-a271-0f697aa5b13e"
      },
      "source": [
        "fpr = dict()\n",
        "tpr = dict()\n",
        "roc_auc = dict()\n",
        "n_classes=10\n",
        "Y_train=label_binarize(Y_train, classes=[0, 1, 2,3,4,5,6,7,8,9])\n",
        "for i in range(n_classes):\n",
        "    fpr[i], tpr[i], _ = roc_curve(Y_train.T[:, i].T, Proba[:, i])\n",
        "    roc_auc[i] = auc(fpr[i], tpr[i])\n",
        "\n",
        "# Compute micro-average ROC curve and ROC area\n",
        "fpr[\"micro\"], tpr[\"micro\"], _ = roc_curve(Y_train.T.ravel(), Proba.ravel())\n",
        "roc_auc[\"micro\"] = auc(fpr[\"micro\"], tpr[\"micro\"])\n",
        "\n",
        "all_fpr = np.unique(np.concatenate([fpr[i] for i in range(n_classes)]))\n",
        "\n",
        "# Then interpolate all ROC curves at this points\n",
        "mean_tpr = np.zeros_like(all_fpr)\n",
        "for i in range(n_classes):\n",
        "    mean_tpr += interp(all_fpr, fpr[i], tpr[i])\n",
        "\n",
        "# Finally average it and compute AUC\n",
        "mean_tpr /= n_classes\n",
        "\n",
        "fpr[\"macro\"] = all_fpr\n",
        "tpr[\"macro\"] = mean_tpr\n",
        "roc_auc[\"macro\"] = auc(fpr[\"macro\"], tpr[\"macro\"])\n",
        "\n",
        "plt.figure()\n",
        "plt.plot(fpr[\"micro\"], tpr[\"micro\"])\n",
        "plt.plot(fpr[\"macro\"], tpr[\"macro\"])\n"
      ],
      "execution_count": null,
      "outputs": [
        {
          "output_type": "stream",
          "text": [
            "/usr/local/lib/python3.6/dist-packages/ipykernel_launcher.py:19: DeprecationWarning: scipy.interp is deprecated and will be removed in SciPy 2.0.0, use numpy.interp instead\n"
          ],
          "name": "stderr"
        },
        {
          "output_type": "execute_result",
          "data": {
            "text/plain": [
              "[<matplotlib.lines.Line2D at 0x7f45cc1e8d68>]"
            ]
          },
          "metadata": {
            "tags": []
          },
          "execution_count": 431
        },
        {
          "output_type": "display_data",
          "data": {
            "image/png": "[encoded data removed]",
            "text/plain": [
              "<Figure size 432x288 with 1 Axes>"
            ]
          },
          "metadata": {
            "tags": [],
            "needs_background": "light"
          }
        }
      ]
    },
    {
      "cell_type": "code",
      "metadata": {
        "colab": {
          "base_uri": "https://localhost:8080/"
        },
        "id": "CqF8tSzCnZB4",
        "outputId": "782bb252-69f5-4839-b78f-ba121c9cdb1d"
      },
      "source": [
        "from sklearn.metrics import confusion_matrix\n",
        "print('Confusion Matrix')\n",
        "confusion_matrix(y_train, predictions)"
      ],
      "execution_count": null,
      "outputs": [
        {
          "output_type": "stream",
          "text": [
            "Confusion Matrix\n"
          ],
          "name": "stdout"
        },
        {
          "output_type": "execute_result",
          "data": {
            "text/plain": [
              "array([[943,   0,   9,   4,   2,  21,   9,   4,   8,   0],\n",
              "       [  0, 940,  14,   8,   1,   1,   0,   4,  30,   2],\n",
              "       [ 11,  37, 831,  29,  17,  10,  30,  11,  22,   2],\n",
              "       [  6,  13,  34, 829,   2,  54,   2,  19,  25,  16],\n",
              "       [  0,   3,  13,   0, 862,   2,  25,   0,   9,  86],\n",
              "       [ 30,   4,  18,  45,  16, 793,  21,   3,  59,  11],\n",
              "       [ 11,   5,  20,   0,  21,  22, 900,   0,  19,   2],\n",
              "       [  5,  18,   9,   7,   8,   1,   0, 870,   1,  81],\n",
              "       [ 12,  26,  21,  37,   6,  55,  28,   1, 789,  25],\n",
              "       [ 11,   1,   3,  19,  43,   7,   2,  41,  14, 859]])"
            ]
          },
          "metadata": {
            "tags": []
          },
          "execution_count": 432
        }
      ]
    },
    {
      "cell_type": "markdown",
      "metadata": {
        "id": "xJRqfAVMqSQt"
      },
      "source": [
        "SGD with Sigmoid"
      ]
    },
    {
      "cell_type": "code",
      "metadata": {
        "colab": {
          "base_uri": "https://localhost:8080/"
        },
        "id": "1BZM2FsIqK5l",
        "outputId": "979f7e3a-6c0d-44b6-ffc1-c050acea7a53"
      },
      "source": [
        "model= MLPClassifier(0.1,500,'sigmoid')\n",
        "W1, b1, W2, b2,predictions,acc,Train_loss,Test_loss,Epochs,Proba=model.fit(X_train,y_train,X_val,Y_val)\n",
        "\n",
        "print('MLP accuracy With sigmoid',acc)"
      ],
      "execution_count": null,
      "outputs": [
        {
          "output_type": "stream",
          "text": [
            "MLP accuracy With sigmoid 0.7077\n"
          ],
          "name": "stdout"
        }
      ]
    },
    {
      "cell_type": "code",
      "metadata": {
        "colab": {
          "base_uri": "https://localhost:8080/",
          "height": 295
        },
        "id": "2ClZJGziqtH2",
        "outputId": "eac9b6d9-87c3-4ef3-8b40-9a1a418b22a6"
      },
      "source": [
        "plt.plot(Epochs,Train_loss)\n",
        "plt.xlabel('Epochs') \n",
        "plt.ylabel('Loss')\n",
        "plt.title('Training Loss')\n",
        "plt.show() "
      ],
      "execution_count": null,
      "outputs": [
        {
          "output_type": "display_data",
          "data": {
            "image/png": "[encoded data removed]",
            "text/plain": [
              "<Figure size 432x288 with 1 Axes>"
            ]
          },
          "metadata": {
            "tags": [],
            "needs_background": "light"
          }
        }
      ]
    },
    {
      "cell_type": "code",
      "metadata": {
        "colab": {
          "base_uri": "https://localhost:8080/",
          "height": 295
        },
        "id": "RBq5zXfAq6Ki",
        "outputId": "52cdce2e-1890-4e66-aaf0-09e60d22b176"
      },
      "source": [
        "plt.plot(Epochs,Test_loss)\n",
        "plt.xlabel('Epochs') \n",
        "plt.ylabel('Loss')\n",
        "plt.title('Test Loss')\n",
        "plt.show() "
      ],
      "execution_count": null,
      "outputs": [
        {
          "output_type": "display_data",
          "data": {
            "image/png": "[encoded data removed]",
            "text/plain": [
              "<Figure size 432x288 with 1 Axes>"
            ]
          },
          "metadata": {
            "tags": [],
            "needs_background": "light"
          }
        }
      ]
    },
    {
      "cell_type": "code",
      "metadata": {
        "colab": {
          "base_uri": "https://localhost:8080/",
          "height": 318
        },
        "id": "5GDl8urRLtuo",
        "outputId": "c2c67506-8db8-4919-f571-29679303722d"
      },
      "source": [
        "fpr = dict()\n",
        "tpr = dict()\n",
        "roc_auc = dict()\n",
        "n_classes=10\n",
        "Y_train=label_binarize(Y_train, classes=[0, 1, 2,3,4,5,6,7,8,9])\n",
        "for i in range(n_classes):\n",
        "    fpr[i], tpr[i], _ = roc_curve(Y_train.T[:, i].T, Proba[:, i])\n",
        "    roc_auc[i] = auc(fpr[i], tpr[i])\n",
        "\n",
        "# Compute micro-average ROC curve and ROC area\n",
        "fpr[\"micro\"], tpr[\"micro\"], _ = roc_curve(Y_train.T.ravel(), Proba.ravel())\n",
        "roc_auc[\"micro\"] = auc(fpr[\"micro\"], tpr[\"micro\"])\n",
        "\n",
        "all_fpr = np.unique(np.concatenate([fpr[i] for i in range(n_classes)]))\n",
        "\n",
        "# Then interpolate all ROC curves at this points\n",
        "mean_tpr = np.zeros_like(all_fpr)\n",
        "for i in range(n_classes):\n",
        "    mean_tpr += interp(all_fpr, fpr[i], tpr[i])\n",
        "\n",
        "# Finally average it and compute AUC\n",
        "mean_tpr /= n_classes\n",
        "\n",
        "fpr[\"macro\"] = all_fpr\n",
        "tpr[\"macro\"] = mean_tpr\n",
        "roc_auc[\"macro\"] = auc(fpr[\"macro\"], tpr[\"macro\"])\n",
        "\n",
        "plt.figure()\n",
        "plt.plot(fpr[\"micro\"], tpr[\"micro\"])\n",
        "plt.plot(fpr[\"macro\"], tpr[\"macro\"])\n"
      ],
      "execution_count": null,
      "outputs": [
        {
          "output_type": "stream",
          "text": [
            "/usr/local/lib/python3.6/dist-packages/ipykernel_launcher.py:19: DeprecationWarning: scipy.interp is deprecated and will be removed in SciPy 2.0.0, use numpy.interp instead\n"
          ],
          "name": "stderr"
        },
        {
          "output_type": "execute_result",
          "data": {
            "text/plain": [
              "[<matplotlib.lines.Line2D at 0x7f45cb2ba828>]"
            ]
          },
          "metadata": {
            "tags": []
          },
          "execution_count": 438
        },
        {
          "output_type": "display_data",
          "data": {
            "image/png": "[encoded data removed]",
            "text/plain": [
              "<Figure size 432x288 with 1 Axes>"
            ]
          },
          "metadata": {
            "tags": [],
            "needs_background": "light"
          }
        }
      ]
    },
    {
      "cell_type": "code",
      "metadata": {
        "colab": {
          "base_uri": "https://localhost:8080/"
        },
        "id": "TuzBsAPjq_jq",
        "outputId": "3d24bf2d-dbec-4a73-9fe1-d6b272c3b27d"
      },
      "source": [
        "from sklearn.metrics import confusion_matrix\n",
        "print('Confusion Matrix')\n",
        "confusion_matrix(y_train, predictions)"
      ],
      "execution_count": null,
      "outputs": [
        {
          "output_type": "stream",
          "text": [
            "Confusion Matrix\n"
          ],
          "name": "stdout"
        },
        {
          "output_type": "execute_result",
          "data": {
            "text/plain": [
              "array([[916,   1,  18,  18,   3,   4,  19,  11,  10,   0],\n",
              "       [  0, 958,   5,   2,   1,  12,   0,   2,  14,   6],\n",
              "       [ 52,  48, 736,  27,  22,   4,  75,  11,  14,  11],\n",
              "       [ 88,  20,  21, 654,   5,  49,  10,  24,  80,  49],\n",
              "       [  0,   9,  30,   1, 741,   7,  41,   4,  12, 155],\n",
              "       [ 73,  34,  25, 147,  12, 505,  43,   8, 129,  24],\n",
              "       [  7,  18,  65,   0,  40,   6, 847,   1,  16,   0],\n",
              "       [ 11,  28,  12,   8,  20,   3,   1, 825,   4,  88],\n",
              "       [ 11, 100,  35, 132,  23,  61,  58,   4, 511,  65],\n",
              "       [ 12,   8,  21,  17, 133,   2,   4,  48,  16, 739]])"
            ]
          },
          "metadata": {
            "tags": []
          },
          "execution_count": 439
        }
      ]
    },
    {
      "cell_type": "code",
      "metadata": {
        "colab": {
          "base_uri": "https://localhost:8080/"
        },
        "id": "2MpHQX-lrHpv",
        "outputId": "34d4eba2-7006-458d-ec1d-c6af6f09d6c1"
      },
      "source": [
        "model= MLPClassifier(0.1,500,'tanh')\n",
        "W1, b1, W2, b2,predictions,acc,Train_loss,Test_loss,Epochs,Proba=model.fit(X_train,y_train,X_val,Y_val)\n",
        "\n",
        "print('MLP accuracy With tanh',acc)"
      ],
      "execution_count": null,
      "outputs": [
        {
          "output_type": "stream",
          "text": [
            "MLP accuracy With tanh 0.8133\n"
          ],
          "name": "stdout"
        }
      ]
    },
    {
      "cell_type": "code",
      "metadata": {
        "colab": {
          "base_uri": "https://localhost:8080/",
          "height": 295
        },
        "id": "y_Xzvcoqrtcx",
        "outputId": "74667c42-353f-4966-b26d-c9d61e4a6a5b"
      },
      "source": [
        "plt.plot(Epochs,Train_loss)\n",
        "plt.xlabel('Epochs') \n",
        "plt.ylabel('Loss')\n",
        "plt.title('Training Loss')\n",
        "plt.show() "
      ],
      "execution_count": null,
      "outputs": [
        {
          "output_type": "display_data",
          "data": {
            "image/png": "[encoded data removed]",
            "text/plain": [
              "<Figure size 432x288 with 1 Axes>"
            ]
          },
          "metadata": {
            "tags": [],
            "needs_background": "light"
          }
        }
      ]
    },
    {
      "cell_type": "code",
      "metadata": {
        "colab": {
          "base_uri": "https://localhost:8080/",
          "height": 295
        },
        "id": "cT3kG4sPr0Vd",
        "outputId": "22d93ff3-0e99-4909-ab77-bf483cbb8425"
      },
      "source": [
        "plt.plot(Epochs,Test_loss)\n",
        "plt.xlabel('Epochs') \n",
        "plt.ylabel('Loss')\n",
        "plt.title('Test Loss')\n",
        "plt.show()"
      ],
      "execution_count": null,
      "outputs": [
        {
          "output_type": "display_data",
          "data": {
            "image/png": "[encoded data removed]",
            "text/plain": [
              "<Figure size 432x288 with 1 Axes>"
            ]
          },
          "metadata": {
            "tags": [],
            "needs_background": "light"
          }
        }
      ]
    },
    {
      "cell_type": "code",
      "metadata": {
        "colab": {
          "base_uri": "https://localhost:8080/",
          "height": 318
        },
        "id": "qGoQ8R9TLxPY",
        "outputId": "cc77f599-6893-4c8c-82e9-85d383b3e58f"
      },
      "source": [
        "fpr = dict()\n",
        "tpr = dict()\n",
        "roc_auc = dict()\n",
        "n_classes=10\n",
        "Y_train=label_binarize(Y_train, classes=[0, 1, 2,3,4,5,6,7,8,9])\n",
        "for i in range(n_classes):\n",
        "    fpr[i], tpr[i], _ = roc_curve(Y_train.T[:, i].T, Proba[:, i])\n",
        "    roc_auc[i] = auc(fpr[i], tpr[i])\n",
        "\n",
        "# Compute micro-average ROC curve and ROC area\n",
        "fpr[\"micro\"], tpr[\"micro\"], _ = roc_curve(Y_train.T.ravel(), Proba.ravel())\n",
        "roc_auc[\"micro\"] = auc(fpr[\"micro\"], tpr[\"micro\"])\n",
        "\n",
        "all_fpr = np.unique(np.concatenate([fpr[i] for i in range(n_classes)]))\n",
        "\n",
        "# Then interpolate all ROC curves at this points\n",
        "mean_tpr = np.zeros_like(all_fpr)\n",
        "for i in range(n_classes):\n",
        "    mean_tpr += interp(all_fpr, fpr[i], tpr[i])\n",
        "\n",
        "# Finally average it and compute AUC\n",
        "mean_tpr /= n_classes\n",
        "\n",
        "fpr[\"macro\"] = all_fpr\n",
        "tpr[\"macro\"] = mean_tpr\n",
        "roc_auc[\"macro\"] = auc(fpr[\"macro\"], tpr[\"macro\"])\n",
        "\n",
        "plt.figure()\n",
        "plt.plot(fpr[\"micro\"], tpr[\"micro\"])\n",
        "plt.plot(fpr[\"macro\"], tpr[\"macro\"])"
      ],
      "execution_count": null,
      "outputs": [
        {
          "output_type": "stream",
          "text": [
            "/usr/local/lib/python3.6/dist-packages/ipykernel_launcher.py:19: DeprecationWarning: scipy.interp is deprecated and will be removed in SciPy 2.0.0, use numpy.interp instead\n"
          ],
          "name": "stderr"
        },
        {
          "output_type": "execute_result",
          "data": {
            "text/plain": [
              "[<matplotlib.lines.Line2D at 0x7f45cbf178d0>]"
            ]
          },
          "metadata": {
            "tags": []
          },
          "execution_count": 443
        },
        {
          "output_type": "display_data",
          "data": {
            "image/png": "[encoded data removed]",
            "text/plain": [
              "<Figure size 432x288 with 1 Axes>"
            ]
          },
          "metadata": {
            "tags": [],
            "needs_background": "light"
          }
        }
      ]
    },
    {
      "cell_type": "code",
      "metadata": {
        "colab": {
          "base_uri": "https://localhost:8080/"
        },
        "id": "O5IO3lyKr6x3",
        "outputId": "a68a61fc-41e0-44e1-8f14-8e38a03ec9cb"
      },
      "source": [
        "from sklearn.metrics import confusion_matrix\n",
        "print('Confusion Matrix')\n",
        "confusion_matrix(y_train, predictions)"
      ],
      "execution_count": null,
      "outputs": [
        {
          "output_type": "stream",
          "text": [
            "Confusion Matrix\n"
          ],
          "name": "stdout"
        },
        {
          "output_type": "execute_result",
          "data": {
            "text/plain": [
              "array([[901,   0,  10,  34,   2,  36,  13,   1,   2,   1],\n",
              "       [  0, 954,   7,   5,   4,   6,   0,   3,  18,   3],\n",
              "       [ 28,  22, 751,  36,  22,   6,  41,  14,  77,   3],\n",
              "       [ 19,  16,  46, 784,   4,  41,   0,  18,  44,  28],\n",
              "       [  6,   8,  17,   1, 813,  10,  14,   6,  23, 102],\n",
              "       [ 44,  23,   9,  91,  21, 717,  22,   2,  62,   9],\n",
              "       [ 16,   3,  33,   0,   7,  14, 911,   1,  14,   1],\n",
              "       [ 10,  15,  19,   1,  26,   2,   0, 865,  10,  52],\n",
              "       [ 12,  21,  57,  44,  23,  67,  25,   5, 693,  53],\n",
              "       [  5,   6,  13,  18,  81,   3,   4,  75,  12, 783]])"
            ]
          },
          "metadata": {
            "tags": []
          },
          "execution_count": 445
        }
      ]
    }
  ]
}